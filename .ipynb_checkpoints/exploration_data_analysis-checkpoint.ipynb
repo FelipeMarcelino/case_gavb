{
 "cells": [
  {
   "cell_type": "code",
   "execution_count": 2,
   "id": "6b1c4666",
   "metadata": {},
   "outputs": [],
   "source": [
    "import pandas as pd"
   ]
  },
  {
   "cell_type": "markdown",
   "id": "73930558",
   "metadata": {},
   "source": [
    "# 0.1 Global Variables \n",
    "\n",
    "Section reserved for global/config variables "
   ]
  },
  {
   "cell_type": "markdown",
   "id": "3a6b4e38",
   "metadata": {},
   "source": [
    "# 0.2 Functions Definition\n",
    "\n",
    "Section reserved for functions that will be used through the jupyter file"
   ]
  },
  {
   "cell_type": "markdown",
   "id": "27830915",
   "metadata": {},
   "source": [
    "# 1. Understand Data\n",
    "\n",
    "This first part is only for understand data. Which columns are in all files (and which are not), which columns are importante, what is in inside on each row and etc. It is importante to have a global view for the data you are working. It helps to create assumptions and hypothesis related to the data and the problem you want to solve! "
   ]
  },
  {
   "cell_type": "markdown",
   "id": "56a6059d",
   "metadata": {},
   "source": [
    "## 1.1 Conclusions\n",
    "- Some columns like \"data\", \"hora\" and \"natureza acidente\" are present in all years. The last two years seems to have more columns than the 3 first years. And some columns do not have names and are present in all files.\n",
    "- Probably the first Unnamed column in the first three years are the same data\n",
    "    - 2015 - Column: Unnamed 20 - it has outlier values and most of the values are 0,1,2\n",
    "    - 2016 - Column: Unnamed 26 - it not has outlier values and most of the values are 0,1,2\n",
    "    - 2017 - Column: Unnamed 25 - it not has outlier values and most of the values are 0,1,2\n",
    "- \"Natureza do Acidente\" - 'Sem Vitima', 'Com Vitima' e 'Vitima Fatal'\n",
    "- \"Situação\" - 'CANCELADA', 'FINALIZADA', 'EM ATENDIMENTO', 'PENDENTE',\n",
    "       'EM ABERTO\n",
    "- \"Complemento\" - Complementary address\n",
    "- \"Natureza\" - Natureza seems to be the reason of the accident, like \"colision\". But, it has other values related to location/address\n",
    "- "
   ]
  },
  {
   "cell_type": "code",
   "execution_count": 14,
   "id": "2b328695",
   "metadata": {},
   "outputs": [],
   "source": [
    "# Names were normalized manually \n",
    "data_2015 = pd.read_csv(\"./dataset/acidentes_2015.csv\")\n",
    "data_2016 = pd.read_csv(\"./dataset/acidentes_2016.csv\")\n",
    "data_2017 = pd.read_csv(\"./dataset/acidentes_2017.csv\")\n",
    "data_2018 = pd.read_csv(\"./dataset/acidentes_2018.csv\")\n",
    "data_2019 = pd.read_csv(\"./dataset/acidentes_2019.csv\") # This data is our test data "
   ]
  },
  {
   "cell_type": "markdown",
   "id": "cfe4dc4c",
   "metadata": {},
   "source": [
    "**Before visualizing tables we have to delete delete columns with all values == NaN**"
   ]
  },
  {
   "cell_type": "code",
   "execution_count": 15,
   "id": "270f10fd",
   "metadata": {},
   "outputs": [],
   "source": [
    "data_2015 = data_2015.dropna(axis=1, how='all')\n",
    "data_2016 = data_2016.dropna(axis=1, how='all')\n",
    "data_2017 = data_2017.dropna(axis=1, how='all')\n",
    "data_2018 = data_2018.dropna(axis=1, how='all')\n",
    "data_2019 = data_2019.dropna(axis=1, how='all')"
   ]
  },
  {
   "cell_type": "code",
   "execution_count": 24,
   "id": "8a0a466c",
   "metadata": {},
   "outputs": [
    {
     "name": "stdout",
     "output_type": "stream",
     "text": [
      "<class 'pandas.core.frame.DataFrame'>\n",
      "RangeIndex: 7273 entries, 0 to 7272\n",
      "Data columns (total 24 columns):\n",
      " #   Column             Non-Null Count  Dtype  \n",
      "---  ------             --------------  -----  \n",
      " 0   natureza_acidente  7273 non-null   object \n",
      " 1   situacao           7272 non-null   object \n",
      " 2   data               7273 non-null   object \n",
      " 3   hora               7273 non-null   object \n",
      " 4   bairro             7223 non-null   object \n",
      " 5   endereco           7203 non-null   object \n",
      " 6   numero             2456 non-null   float64\n",
      " 7   complemento        7171 non-null   object \n",
      " 8   natureza           7206 non-null   object \n",
      " 9   descricao          7053 non-null   object \n",
      " 10  auto               6585 non-null   object \n",
      " 11  moto               2511 non-null   object \n",
      " 12  ciclom             469 non-null    object \n",
      " 13  ciclista           137 non-null    object \n",
      " 14  pedestre           103 non-null    float64\n",
      " 15  onibus             887 non-null    float64\n",
      " 16  caminhao           799 non-null    float64\n",
      " 17  viatura            179 non-null    float64\n",
      " 18  outros             95 non-null     float64\n",
      " 19  vitimas            6199 non-null   float64\n",
      " 20  Unnamed: 20        859 non-null    float64\n",
      " 21  Unnamed: 21        163 non-null    float64\n",
      " 22  Unnamed: 22        39 non-null     float64\n",
      " 23  Unnamed: 23        3 non-null      float64\n",
      "dtypes: float64(11), object(13)\n",
      "memory usage: 1.3+ MB\n"
     ]
    }
   ],
   "source": [
    "data_2015.info()"
   ]
  },
  {
   "cell_type": "code",
   "execution_count": 26,
   "id": "b33f5da1",
   "metadata": {},
   "outputs": [
    {
     "name": "stdout",
     "output_type": "stream",
     "text": [
      "<class 'pandas.core.frame.DataFrame'>\n",
      "RangeIndex: 11263 entries, 0 to 11262\n",
      "Data columns (total 39 columns):\n",
      " #   Column                     Non-Null Count  Dtype  \n",
      "---  ------                     --------------  -----  \n",
      " 0   data                       11263 non-null  object \n",
      " 1   hora                       11257 non-null  object \n",
      " 2   natureza_acidente          11116 non-null  object \n",
      " 3   situacao                   11263 non-null  object \n",
      " 4   bairro                     11204 non-null  object \n",
      " 5   endereco                   11198 non-null  object \n",
      " 6   numero                     4892 non-null   object \n",
      " 7   detalhe_endereco_acidente  27 non-null     object \n",
      " 8   complemento                11175 non-null  object \n",
      " 9   endereco_cruzamento        11242 non-null  object \n",
      " 10  numero_cruzamento          11254 non-null  object \n",
      " 11  referencia_cruzamento      11249 non-null  object \n",
      " 12  bairro_cruzamento          11261 non-null  object \n",
      " 13  tipo                       11243 non-null  object \n",
      " 14  descricao                  11087 non-null  object \n",
      " 15  auto                       10462 non-null  object \n",
      " 16  moto                       4445 non-null   object \n",
      " 17  ciclom                     2009 non-null   object \n",
      " 18  ciclista                   898 non-null    object \n",
      " 19  pedestre                   536 non-null    object \n",
      " 20  onibus                     1453 non-null   object \n",
      " 21  caminhao                   1004 non-null   object \n",
      " 22  viatura                    403 non-null    object \n",
      " 23  outros                     255 non-null    object \n",
      " 24  vitimas                    8979 non-null   float64\n",
      " 25  vitimasfatais              329 non-null    float64\n",
      " 26  Unnamed: 26                1540 non-null   float64\n",
      " 27  Unnamed: 27                193 non-null    float64\n",
      " 28  Unnamed: 28                207 non-null    float64\n",
      " 29  Unnamed: 29                31 non-null     float64\n",
      " 30  Unnamed: 30                26 non-null     float64\n",
      " 31  Unnamed: 31                2 non-null      float64\n",
      " 32  Unnamed: 32                3 non-null      float64\n",
      " 33  Unnamed: 33                2 non-null      float64\n",
      " 34  Unnamed: 34                1 non-null      object \n",
      " 35  Unnamed: 35                1 non-null      object \n",
      " 36  Unnamed: 36                1 non-null      object \n",
      " 37  Unnamed: 37                1 non-null      float64\n",
      " 38  Unnamed: 46                1 non-null      float64\n",
      "dtypes: float64(12), object(27)\n",
      "memory usage: 3.4+ MB\n"
     ]
    }
   ],
   "source": [
    "data_2016.info()"
   ]
  },
  {
   "cell_type": "code",
   "execution_count": 27,
   "id": "0e7a6f4b",
   "metadata": {},
   "outputs": [
    {
     "name": "stdout",
     "output_type": "stream",
     "text": [
      "<class 'pandas.core.frame.DataFrame'>\n",
      "RangeIndex: 11758 entries, 0 to 11757\n",
      "Data columns (total 31 columns):\n",
      " #   Column                     Non-Null Count  Dtype  \n",
      "---  ------                     --------------  -----  \n",
      " 0   data                       11758 non-null  object \n",
      " 1   hora                       11738 non-null  object \n",
      " 2   natureza_acidente          11592 non-null  object \n",
      " 3   situacao                   11715 non-null  object \n",
      " 4   bairro                     11748 non-null  object \n",
      " 5   endereco                   11739 non-null  object \n",
      " 6   numero                     5367 non-null   object \n",
      " 7   detalhe_endereco_acidente  57 non-null     object \n",
      " 8   complemento                11672 non-null  object \n",
      " 9   endereco_cruzamento        11736 non-null  object \n",
      " 10  numero_cruzamento          10390 non-null  object \n",
      " 11  referencia_cruzamento      11488 non-null  object \n",
      " 12  bairro_cruzamento          11703 non-null  object \n",
      " 13  tipo                       11741 non-null  object \n",
      " 14  auto                       10843 non-null  object \n",
      " 15  moto                       4383 non-null   object \n",
      " 16  ciclom                     1933 non-null   object \n",
      " 17  ciclista                   771 non-null    object \n",
      " 18  pedestre                   503 non-null    object \n",
      " 19  onibus                     1577 non-null   object \n",
      " 20  caminhao                   1006 non-null   object \n",
      " 21  viatura                    410 non-null    object \n",
      " 22  outros                     234 non-null    float64\n",
      " 23  vitimas                    9742 non-null   float64\n",
      " 24  vitimasfatais              79 non-null     float64\n",
      " 25  Unnamed: 25                1731 non-null   float64\n",
      " 26  Unnamed: 26                15 non-null     float64\n",
      " 27  Unnamed: 27                250 non-null    float64\n",
      " 28  Unnamed: 28                2 non-null      float64\n",
      " 29  Unnamed: 29                29 non-null     float64\n",
      " 30  Unnamed: 31                3 non-null      float64\n",
      "dtypes: float64(9), object(22)\n",
      "memory usage: 2.8+ MB\n"
     ]
    }
   ],
   "source": [
    "data_2017.info()"
   ]
  },
  {
   "cell_type": "code",
   "execution_count": 28,
   "id": "b6646f11",
   "metadata": {},
   "outputs": [
    {
     "name": "stdout",
     "output_type": "stream",
     "text": [
      "<class 'pandas.core.frame.DataFrame'>\n",
      "RangeIndex: 11411 entries, 0 to 11410\n",
      "Data columns (total 45 columns):\n",
      " #   Column                     Non-Null Count  Dtype  \n",
      "---  ------                     --------------  -----  \n",
      " 0   data                       11411 non-null  object \n",
      " 1   hora                       11398 non-null  object \n",
      " 2   natureza_acidente          11308 non-null  object \n",
      " 3   situacao                   11407 non-null  object \n",
      " 4   bairro                     11386 non-null  object \n",
      " 5   endereco                   11395 non-null  object \n",
      " 6   numero                     5279 non-null   object \n",
      " 7   detalhe_endereco_acidente  2261 non-null   object \n",
      " 8   complemento                10979 non-null  object \n",
      " 9   endereco_cruzamento        11391 non-null  object \n",
      " 10  numero_cruzamento          6348 non-null   object \n",
      " 11  referencia_cruzamento      10045 non-null  object \n",
      " 12  bairro_cruzamento          11256 non-null  object \n",
      " 13  num_semaforo               2399 non-null   object \n",
      " 14  sentido_via                3384 non-null   object \n",
      " 15  tipo                       9895 non-null   object \n",
      " 16  descricao                  9771 non-null   object \n",
      " 17  auto                       10402 non-null  object \n",
      " 18  moto                       4026 non-null   object \n",
      " 19  ciclom                     1787 non-null   object \n",
      " 20  ciclista                   751 non-null    object \n",
      " 21  pedestre                   415 non-null    object \n",
      " 22  onibus                     1531 non-null   object \n",
      " 23  caminhao                   1052 non-null   object \n",
      " 24  viatura                    411 non-null    object \n",
      " 25  outros                     321 non-null    float64\n",
      " 26  vitimas                    9393 non-null   float64\n",
      " 27  vitimasfatais              321 non-null    float64\n",
      " 28  acidente_verificado        3202 non-null   object \n",
      " 29  tempo_clima                1825 non-null   object \n",
      " 30  situacao_semaforo          2028 non-null   object \n",
      " 31  sinalizacao                1844 non-null   object \n",
      " 32  condicao_via               1886 non-null   object \n",
      " 33  conservacao_via            1850 non-null   object \n",
      " 34  ponto_controle             1700 non-null   object \n",
      " 35  situacao_placa             1723 non-null   object \n",
      " 36  velocidade_max_via         679 non-null    object \n",
      " 37  mao_direcao                1797 non-null   object \n",
      " 38  divisao_via1               1667 non-null   object \n",
      " 39  divisao_via2               257 non-null    object \n",
      " 40  divisao_via3               163 non-null    object \n",
      " 41  Unnamed: 41                27 non-null     object \n",
      " 42  Unnamed: 42                20 non-null     object \n",
      " 43  Unnamed: 43                2 non-null      object \n",
      " 44  Unnamed: 44                1 non-null      object \n",
      "dtypes: float64(3), object(42)\n",
      "memory usage: 3.9+ MB\n"
     ]
    }
   ],
   "source": [
    "data_2018.info()"
   ]
  },
  {
   "cell_type": "code",
   "execution_count": 29,
   "id": "c72f817e",
   "metadata": {},
   "outputs": [
    {
     "name": "stdout",
     "output_type": "stream",
     "text": [
      "<class 'pandas.core.frame.DataFrame'>\n",
      "RangeIndex: 12062 entries, 0 to 12061\n",
      "Data columns (total 47 columns):\n",
      " #   Column                     Non-Null Count  Dtype  \n",
      "---  ------                     --------------  -----  \n",
      " 0   data                       12062 non-null  object \n",
      " 1   hora                       12046 non-null  object \n",
      " 2   natureza_acidente          12058 non-null  object \n",
      " 3   situacao                   12058 non-null  object \n",
      " 4   bairro                     11914 non-null  object \n",
      " 5   endereco                   12009 non-null  object \n",
      " 6   numero                     6004 non-null   object \n",
      " 7   detalhe_endereco_acidente  4311 non-null   object \n",
      " 8   complemento                9600 non-null   object \n",
      " 9   endereco_cruzamento        11991 non-null  object \n",
      " 10  numero_cruzamento          6223 non-null   object \n",
      " 11  referencia_cruzamento      9407 non-null   object \n",
      " 12  bairro_cruzamento          11888 non-null  object \n",
      " 13  num_semaforo               3346 non-null   object \n",
      " 14  sentido_via                8487 non-null   object \n",
      " 15  tipo                       11764 non-null  object \n",
      " 16  descricao                  11595 non-null  object \n",
      " 17  auto                       11212 non-null  object \n",
      " 18  moto                       3324 non-null   object \n",
      " 19  ciclom                     501 non-null    object \n",
      " 20  ciclista                   375 non-null    object \n",
      " 21  pedestre                   274 non-null    object \n",
      " 22  onibus                     1772 non-null   object \n",
      " 23  caminhao                   1217 non-null   object \n",
      " 24  viatura                    179 non-null    float64\n",
      " 25  outros                     246 non-null    float64\n",
      " 26  vitimas                    11312 non-null  float64\n",
      " 27  vitimasfatais              359 non-null    float64\n",
      " 28  acidente_verificado        9061 non-null   object \n",
      " 29  tempo_clima                9517 non-null   object \n",
      " 30  situacao_semaforo          9573 non-null   object \n",
      " 31  sinalizacao                9518 non-null   object \n",
      " 32  condicao_via               9667 non-null   object \n",
      " 33  conservacao_via            9525 non-null   object \n",
      " 34  ponto_controle             8750 non-null   object \n",
      " 35  situacao_placa             8744 non-null   object \n",
      " 36  velocidade_max_via         3136 non-null   object \n",
      " 37  mao_direcao                9312 non-null   object \n",
      " 38  divisao_via1               9031 non-null   object \n",
      " 39  divisao_via2               1293 non-null   object \n",
      " 40  divisao_via3               371 non-null    object \n",
      " 41  Unnamed: 41                58 non-null     object \n",
      " 42  Unnamed: 42                15 non-null     object \n",
      " 43  Unnamed: 43                6 non-null      object \n",
      " 44  Unnamed: 44                2 non-null      object \n",
      " 45  Unnamed: 45                1 non-null      object \n",
      " 46  Unnamed: 46                1 non-null      object \n",
      "dtypes: float64(4), object(43)\n",
      "memory usage: 4.3+ MB\n"
     ]
    }
   ],
   "source": [
    "data_2019.info()"
   ]
  },
  {
   "cell_type": "markdown",
   "id": "68dd8c76",
   "metadata": {},
   "source": [
    "**Some unnamed columns in the first years have an considerable amount of non-null data.**"
   ]
  },
  {
   "cell_type": "code",
   "execution_count": 36,
   "id": "67458d44",
   "metadata": {},
   "outputs": [
    {
     "data": {
      "text/plain": [
       "array([nan,  0.,  1.,  2., 18.,  3.,  9.])"
      ]
     },
     "execution_count": 36,
     "metadata": {},
     "output_type": "execute_result"
    }
   ],
   "source": [
    "data_2015[\"Unnamed: 20\"].unique()"
   ]
  },
  {
   "cell_type": "code",
   "execution_count": 40,
   "id": "5259cd03",
   "metadata": {},
   "outputs": [
    {
     "data": {
      "text/plain": [
       "0.0     713\n",
       "1.0     125\n",
       "2.0      18\n",
       "18.0      1\n",
       "3.0       1\n",
       "9.0       1\n",
       "Name: Unnamed: 20, dtype: int64"
      ]
     },
     "execution_count": 40,
     "metadata": {},
     "output_type": "execute_result"
    }
   ],
   "source": [
    "data_2015[\"Unnamed: 20\"].value_counts()"
   ]
  },
  {
   "cell_type": "code",
   "execution_count": 37,
   "id": "f4b79870",
   "metadata": {},
   "outputs": [
    {
     "data": {
      "text/plain": [
       "array([nan,  0.,  1.,  2.,  3.])"
      ]
     },
     "execution_count": 37,
     "metadata": {},
     "output_type": "execute_result"
    }
   ],
   "source": [
    "data_2016[\"Unnamed: 26\"].unique()"
   ]
  },
  {
   "cell_type": "code",
   "execution_count": 41,
   "id": "ca900155",
   "metadata": {},
   "outputs": [
    {
     "data": {
      "text/plain": [
       "0.0    1237\n",
       "1.0     264\n",
       "2.0      33\n",
       "3.0       6\n",
       "Name: Unnamed: 26, dtype: int64"
      ]
     },
     "execution_count": 41,
     "metadata": {},
     "output_type": "execute_result"
    }
   ],
   "source": [
    "data_2016[\"Unnamed: 26\"].value_counts()"
   ]
  },
  {
   "cell_type": "code",
   "execution_count": 38,
   "id": "b148e7b9",
   "metadata": {},
   "outputs": [
    {
     "data": {
      "text/plain": [
       "array([nan,  0.,  1.,  2.,  3.])"
      ]
     },
     "execution_count": 38,
     "metadata": {},
     "output_type": "execute_result"
    }
   ],
   "source": [
    "data_2017[\"Unnamed: 25\"].unique()"
   ]
  },
  {
   "cell_type": "code",
   "execution_count": 42,
   "id": "4a71bf21",
   "metadata": {},
   "outputs": [
    {
     "data": {
      "text/plain": [
       "0.0    1431\n",
       "1.0     258\n",
       "2.0      37\n",
       "3.0       5\n",
       "Name: Unnamed: 25, dtype: int64"
      ]
     },
     "execution_count": 42,
     "metadata": {},
     "output_type": "execute_result"
    }
   ],
   "source": [
    "data_2017[\"Unnamed: 25\"].value_counts()"
   ]
  },
  {
   "cell_type": "markdown",
   "id": "98cff20e",
   "metadata": {},
   "source": [
    "**Which columns are present in all data.**"
   ]
  },
  {
   "cell_type": "markdown",
   "id": "d12d67fb",
   "metadata": {},
   "source": [
    "**Understand which kind of info each column have** "
   ]
  },
  {
   "cell_type": "code",
   "execution_count": 44,
   "id": "1fd293d5",
   "metadata": {},
   "outputs": [
    {
     "data": {
      "text/plain": [
       "array(['SEM VÍTIMA', 'COM VÍTIMA', 'VÍTIMA FATAL'], dtype=object)"
      ]
     },
     "execution_count": 44,
     "metadata": {},
     "output_type": "execute_result"
    }
   ],
   "source": [
    "data_2015.natureza_acidente.unique()"
   ]
  },
  {
   "cell_type": "code",
   "execution_count": 48,
   "id": "f6a99e53",
   "metadata": {},
   "outputs": [
    {
     "data": {
      "text/plain": [
       "array(['CANCELADA', 'FINALIZADA', 'EM ATENDIMENTO', 'PENDENTE',\n",
       "       'EM ABERTO', nan], dtype=object)"
      ]
     },
     "execution_count": 48,
     "metadata": {},
     "output_type": "execute_result"
    }
   ],
   "source": [
    "data_2015.situacao.unique()"
   ]
  },
  {
   "cell_type": "code",
   "execution_count": 53,
   "id": "c930eeb8",
   "metadata": {},
   "outputs": [
    {
     "data": {
      "text/plain": [
       "array(['COLISÃO', ' AO LADO DO COLEGIO GGE', 'E/F AO BEACH CLASS',\n",
       "       ' E/F AO RESIDENCIAL COIMBRA', ' RUA JOÃO MEDEIROS',\n",
       "       ' PX A HABBIS', '500', 'ATROPELAMENTO ANIMAL', 'QUEDA DE ÁRVORE',\n",
       "       'ATROPELAMENTO', ' SENTIDO BOA VIAGEM', ' APÓS O BANCO ITAÚ',\n",
       "       'SENTIDO OLINDA ANTES DA FACULDADE', ' E/F A DONA CASA',\n",
       "       ' E/F A TEMPLO DA TESTEMUNHAS DE JEOVÁ',\n",
       "       ' NA ENTRADA DE JARDIM SÃO PAULO', 'PX DA TV JORNAL',\n",
       "       ' E/F A ANTIGA FÁBRICA DA SOUZA CRUZ', 'CHOQUE',\n",
       "       ' PORTÃO 03 / EM FRENTE AO SUPERMERCADO PAJEÚ', 'NO SET/PIEDADE',\n",
       "       'SET.SUB', ' EM FRENTE A SOCORRO DOCES E SALGADOS',\n",
       "       ' AVENIDA RECIFE ', ' SENTIDO AVENIDA NORTE', '124',\n",
       "       ' PX AO BAR DO ZE', ' ANTES DO VIADUTO TANCREDO NEVES',\n",
       "       ' PX DA MASSA NOBRE Nº414', ' POSTO BR',\n",
       "       ' E/F FARMÁCIA NOVA JERUSALÉM', 'SEMAFORO Nº003',\n",
       "       'SENTIDO AEROPORTO', ' VIA LOCAL', ' SAIDA DO Ristorante Michelli',\n",
       "       ' ESTAC SUPEOR', ' SEMAFARO 051',\n",
       "       ' ANTIGO PASSA E FICA E ESQUINA BURGUER', 'CAPOTAMENTO',\n",
       "       ' PRÓXIMO A FARMACIA PAGUE MENOS', 'EM FRENTE A ESTAÇÃO DO METRO',\n",
       "       ' EM FRENTE AO TERMINAL INTEGRADO DA VARZEA',\n",
       "       ' EM FRENTE HOSPITAL NAVAL', 'ZOOTECNIA', 'COLISÃO COM CICLISTA',\n",
       "       'SENTIDO AFOGADOS', ' LADO DIREITO DO CANAL',\n",
       "       ' E/F AO EDF. STª MÔNICA', 'SEMAFORO Nº451', ' SEMAFORO 184',\n",
       "       ' APÓS A CONEGO BARATA SENTIDO CID/SUB',\n",
       "       ' UM POUCO ANTES DO SEMAFORO 271', ' SENTIDO CIDADE',\n",
       "       ' EM FRENTE AO TI', ' SENTIDO RECIFE.', 'AV DES.GÓES CAVALCANTE',\n",
       "       ' E/F AO CAMPO DO 13', ' EM FRENTE AO GERALDÃO',\n",
       "       ' FAIXA DA ESDQUERDA', ' ESTACIONAMENTO E-8',\n",
       "       ' APÓS A UPA SENTIDO AFOGADOS', ' E/F AO LABORATÓRIO CERPE',\n",
       "       ' PANDOÇURA', ' SUBIDA ALTO STA. TERESINHA', '517361111',\n",
       "       ' CONDUTOR COM SINTOMAS DE EMBREAGUÊS.', ' SENTIDO AFOGADOS',\n",
       "       'ESQUINA COM A RUA ARQUITETO LUIS NUNES', 'SENTIDO PRAÇINHA',\n",
       "       'EM FRENTE AO BOI E BRASA', 'AO LADO DO RESTAURANTE PINHEIROS',\n",
       "       'SENT/OLINDA', nan, 'PRIMEIRA A DIREITA', ' E/F AO BANCO ITAÚ',\n",
       "       ' E JULIETO', 'ESQUINA DO POSTO BR', ' APÓS O ARCADIA',\n",
       "       ' EM FRENTE A LOJA DE CADEIRA', ' E AO SEMAFORO 064',\n",
       "       ' NÚCLEO DO UR 01.', 'EM FRENTE AO ITAU', ' E/F A MARIA FESTAS.',\n",
       "       ' EM FRENTE AO EMPRESARIAL BOA VIAGEM', ' SEMÁFORO 212',\n",
       "       ' SE ENCONTRAM NO ESTACONAMENTO DA LOJA DIRECIONADOS PELO AGENTE.',\n",
       "       ' SENTIDO ABDIAS DE CARVALHO', ' ESQUINA COM A TUPAN',\n",
       "       'PX DO COLEGIO CICERO DIAS',\n",
       "       ' EM FRENTE A SUCESSO LOCADORA DE VEICULOS', ' SENTIDO BV',\n",
       "       ' NA RUA DO RESTAURANTE BRAZETO',\n",
       "       'RETORNO ESTAÇÃO DO BARRO INDO PARA ESTÇÃO', 'ENGAVETAMENTO',\n",
       "       ' PROX. AO CEMITÉRIO DOS INGLÊSES', ' SEMÁFORO 290',\n",
       "       ' PRÓXIMO A LOMBADA ELETRÔNICA (FAIXA DA ESQUERDA)',\n",
       "       ' SENTIDO SUASSUNA', ' EM FRENTE AO HOTEL SAVERO',\n",
       "       'SENTIDO CENTRO', 'NO FINA DA FABRICA DA MACAXEIRA',\n",
       "       ' CRUZAMENTO COM MARIA CAROLINA', ' HOTEL CENTRAL',\n",
       "       ' SENTIDO AEROPORTO.', ' SENTIDO SUBÚRBIO', ' SENTIDO CENTRO',\n",
       "       ' AO LADO DA MEDICAL ', ' SEMAFORO 132', ' ANTES DO CARREFOUR.',\n",
       "       ' CRUZAMENTO COM A RUA DR. VALDIR PESSOA',\n",
       "       ' AO LADO DOS CORREIOS(SENTIDO CIDADE', ' SENTIDO DERBY',\n",
       "       ' SENTIDO UFPE', ' AO LADO DA IGREJA NOSSª SRª DE BELÉM',\n",
       "       ' E PX DO TERMINAL DOS ÔNIBUS DO ALTO DO MANDU TRANSCOL',\n",
       "       ' OUTRO TELEFONE INFORMADO FOI:88935996', ' SENTIDO LOJA EMBALE)',\n",
       "       ' NO RETORNO SENTIDO RECIFE', ' SENTIDO RECIFE',\n",
       "       ' APÓS O GOE SENTIDO DETRAN.', 'TOMBAMENTO',\n",
       "       ' E/F MERCADO DE CASA AMARELA', ' ANTIGA FÁBRICA DA MACAXEIRA',\n",
       "       ' NO SEMÁFORO Nº 154', ' SENTIDO CDD)',\n",
       "       ' EM FRENTE AO SUPERMERCADO SUPRANOR',\n",
       "       '  AO LADO DO SUPERMECADO EXTRA', ' SEMAFORO 011',\n",
       "       ' SENTIDO PIEDADE(SEMÁFORO Nº  444)', ' SENTIDO SHOPPING RECIFE',\n",
       "       ' APÓS CLINICAL CENTER', ' POSTO SHELL DE ESQUINA',\n",
       "       ' AO LADO DA CELPE', ' EM FRENTE AO HIPER BOMPREÇO',\n",
       "       ' E/F A FARMACIA INDEPENDENTE', ' AO LADO DA PREFEITURA.',\n",
       "       ' SEMÁFORO 281', ' PARALELA DA CAXANGÁ',\n",
       "       ' EM FRENTE AO MACRO UMA VIA LATERAL ANTES DO VIADUTO',\n",
       "       ' PROXIMO AO MARTELINHO DE OURO', ' SENTIDO BR(SEMÁFORO Nº290)',\n",
       "       ' APOS A FABRICA DO CAFE PETINHO',\n",
       "       ' ESQUINA COM A ZEFERINO PINHO.', 'EM FRENTE AO COLEGIO NAP',\n",
       "       ' ENTRE A LOMBADA E AVENIDA SÃO MATHEUS', 'NO CANAL DO CAVOCO',\n",
       "       ' EM FRENTE A FARMACIA PAGUE MENOS',\n",
       "       ' PROX. A PONTE SENTIDO CAMPO GRANDE', ' EM FRENTE AO BANCO ITAU',\n",
       "       ' SENTIDO JABOATÃO.', ' SEMAFORO 261', ' PROXIMO AO BOMPREÇO',\n",
       "       ' EM FRENTE AO MARTELINHO DE OURO', ' FAIXA DA DIREITA',\n",
       "       ' POR TRÁS DO HOTEL XANGAI.', ' NA SAÍDA DO IPSEP',\n",
       "       ' PRÓXIMO AO VEM.', 'PX DO POSTO TOTAL',\n",
       "       ' CRUZAMENTO COM A ENTRADA DE SAN MARTIN.',\n",
       "       'SEMAFORO 380 ELES VÃO COLOCAR OS VEICULOS NO ESTCIONAMENTO DO CERPE DE ESQUINA COM O SINAL',\n",
       "       'POR TRAS DA CAXANGA VEICULO', ' E O BANCO ITAU',\n",
       "       ' VEÍCULOS ESTACIONADOS NO ESTACIONAMENTO DA FARMÁCIA PAGUE MENOS.',\n",
       "       ' AO LADO DO HOSP. BARAÃO DE LUCENA (SENTIDO CENTRO>CAMARAGIBE)',\n",
       "       ' SENTIDO IBURA', ' ANTES DO MARCO ZERO.', ' SENTIDO TI RECIFE.',\n",
       "       ' E EM FRENTE AO EDF. FLAVUS',\n",
       "       '5.EM FRENTE A CENTRAL DE DISTRIBUIÇÃO DE GAS DA PETROBRAS',\n",
       "       'SENTIDO OLINDA', ' SENTIDO SUBURBIO', ' SENTIDO BOA VISTA',\n",
       "       ' SEMÁFOMO 201 // EM FRENTE A CLÍNICA ORTOPÉDICA DO RECIFE',\n",
       "       ' SENTIDO', ' PROXIMO AO CLUB DAS ÁGUIAS',\n",
       "       ' AO LADO DO BANCO DO BRASIL', ' EDF DELINA',\n",
       "       ' APÓS DO SEMÁFORO DA AVENIDA NORTE COM A CONEGO BARATA.',\n",
       "       ' SENTIDO AEROPORTO', ' EM FRENTE AO RESTAURANTE DONA GULA',\n",
       "       ' PRÓXIMO AO NÚMERO 237',\n",
       "       ' EM FRENTE AO RESTAURANTE SABOR DE PERNAMBUCO', 'SEMAFORO 050',\n",
       "       ' SENTIDO JORDÃO', ' APOS A IGREJA UNIVERSAL',\n",
       "       'POR TRAS DA EUROVIA', ' E EM FRENTE AO MERCADINHO RENDE MAIS',\n",
       "       ' NA FRENTE DA INSINUANTE', ' APÓS O GOI', ' SENTIDO TEJIPIÓ.',\n",
       "       ' DEPOIS DA CHURRASCARIA JARDIM (ANTIGO BANDEPE)',\n",
       "       'ACID. DE PERCURSO', ' EM BAIXO DO VIA DUTO SENTIDO CAMARAGIBE',\n",
       "       ' SENTIDO ARRUDA', ' SOB O VIADUTO',\n",
       "       ' PRÓXIMO AO POSTO BR. SEMAFORO 556',\n",
       "       ' AO LADO DO TERMINAL DE ÔNIBUS DE JORDÃO BAIXO',\n",
       "       ' E EM FRENTE DA CASA JOSE ARA',\n",
       "       ' POR TRAS DO HOSPITAL JORGE DE MEDEIROS',\n",
       "       ' CRUZAMENTO COM A RUA AMÉLIA', ' EM FRENTE AO POSTO DESATIVADO',\n",
       "       'S/ AEROPORTO', ' SEINTO SUB/CID EM FRENTE AO POSTO BR',\n",
       "       ' AO LADO DA OFICINA DINAMICA AUTO PEÇAS', ' RUA DO GOE',\n",
       "       ' NO SENTIDO BOA VIAGEM', ' VCV AUTO PEÇAS',\n",
       "       ' ANTES DA ENTRADA DO MORRO DA CONCEIÇÃO', 'EM FRENTE AO EXTRA',\n",
       "       'SENTIDO  CIDADE', ' SENTIDO BOA VIAGEM.', ' EM FRENTE A EUROVIA',\n",
       "       ' 50 METROS PROX. DO SEMAFORO 007', ' EM FRENTE AO PAJEU',\n",
       "       'FINAL DA ALÇA QUE  PASSA EMBAIXO DO VIADUTO',\n",
       "       ' AO LADO DO POSTO DE GASOLINA TOTAL(SENTIDO BOA VIAGEM)',\n",
       "       ' EM FRENTE AO MERCADO PUBLICO',\n",
       "       ' VINDO DO DERBY PARA A ESTAÇÃO JOANA BEZERRA',\n",
       "       ' SENTIDO CANDEIAS.', ' SENTO CAXANGA', ' SEMAFORO 410',\n",
       "       'SENTIDO PRAZERES', ' LEMOS REBOQUE', ' LEOPOLDO LINS',\n",
       "       ' SENTIDO AFOGADOS (SEMÁFORO Nº 288)',\n",
       "       ' E/F  A PADARIA SANTA ROSA', ' APÓS O AEROPORTO(SEMÁFORO 625)',\n",
       "       ' RETORNO DO SHOPPING TACARUNA.', 'SEMAFORO Nº383', 'SENT/CIDADE',\n",
       "       ' E/F A OFICINA', ' EM FRENTE AO TRAILER DA PM',\n",
       "       ' E MERCADO MELODIA', ' POR TRÁS DO BANCO DO BRASIL',\n",
       "       ' POR TRAS DO HOPS UNICORDS', '10', ' EM FRENTE AO COMPAS',\n",
       "       ' SENTIDO PRAZERES', ' SEMAFORO 347', ' SMF 171',\n",
       "       ' ANTES DO CARREFOUR', ' ENTRADA DA ABDIAS', ' SEMAFORO 532',\n",
       "       ' PRO. A PONTE DO CARDOSO. SEMAFORO 510',\n",
       "       ' SENTIDO BOA VIAGEM EM FRENTE AO POSTO BR', ' SENTIDO JAQUEIRA.',\n",
       "       ' PROXIMO A PANJOVEM', ' EM FRENTE AO SHOPPING',\n",
       "       'E A EMPRESA PRESERVE', ' SENTIDO CIDADE.', ' SENTIDO OLINDA',\n",
       "       'SEMAFORO 387', ' APÓS A IGREJA PRESBITERIANA DE AREIAS',\n",
       "       ' SENTIDO CLUBE ALEMAO', ' PORXIMO A ENTRADA DA PONTE DO PINA',\n",
       "       ' SENTIDO OLINDA.', 'SEMAFORO 076', ' SENTIDO PRAZERES.',\n",
       "       ' SENTIDO PIEDADE', ' PRÓX A LOMBADA ELETRÔNICA', 'VT 09 NO LOCAL',\n",
       "       'SENT/ AEROPORTO', 'AO LADO DO CANAL', 'RUA DO ATRANTICO',\n",
       "       'SENT/BOA VIAGEM', ' CRUZAMENTO COM AV GREGÓRIO JUNIOR',\n",
       "       ' SENTIDO IMBIRIBEIRA.', ' SENTIDO BR',\n",
       "       ' CRUZAMENTO COM A RUA PAULA BATISTA',\n",
       "       ' SEM VÍTIMAS. (NA ENTRADA DE SÍTIO DOS PINTOS)',\n",
       "       ' EM FRENTE MATERNIDADE BARROS LIMA', ' SENTIDO BENFICA.',\n",
       "       ' ESQUINA COM ARTE PLACAS', 'SENT/IMBIRIBEIRA', 'SENT/ CENTRO',\n",
       "       'SENT/SUBURBIO', ' SENTIDO CASA AMARELA.', ' EM FRENTE A ALUMIAÇO',\n",
       "       'EM FRENTE AO SACOLÃO FRUT VERDE', ' EM FRENTE A SR VEICULOS',\n",
       "       ' PROX. AO 19° BATALHÃO', ' SENTIDO MERCADO DE CÓRREGO DA AREIA',\n",
       "       'SENTIDO BOA VIAGEM IPSEP', ' NA ENTRADA DE JARDIM SAO PAULO',\n",
       "       ' SENTIDO PONTE GIRATÓRIA', ' AO LADO DA CAXANGÁ VEÍCULOS',\n",
       "       'PROX. AO GIRADOURO DE SAN MARTIN',\n",
       "       ' NA SAÍDA DA INTEGRAÇÃO TANCREDO NEVES',\n",
       "       ' ESQUINA COM O BANCO HSBC', ' CRUZAMENTO COM A RUA REGENERAÇÃO',\n",
       "       ' EM FRENTE AO POSTO TOTAL (SENTIDO BOA VIAGEM)',\n",
       "       ' ESQUINA COM A RUA ANTONIO EDUARDO AMORIM',\n",
       "       ' PROX. AUTO SHOPPING RECIFE',\n",
       "       'APÓS O CRUZ/ COM CONSELHEIROPORTELA', 'SENT/CAMARAGIBE',\n",
       "       'PORTÃO 3', ' NA SUBIDA DO VIADUTO. SENTIDO BOA VIAGEM.',\n",
       "       ' AO LADO DO POSTO SHELL', ' ARMAZÉM CORAL', 'SEMAFORO 631',\n",
       "       ' AO LADO DO GOLDEN TULIP HOTEL', ' SENTIDO CENTRO DE CONVENÇÕES',\n",
       "       ' SENTIDO RECIFE ANTIGO.', 'SENT/ DERBY', 'SENT/CENTRO',\n",
       "       'RUA PARALELA A BARÃO DE SOUZA LEÃO', ' APÓS A UNIMED III',\n",
       "       ' CRUZAMENTO COM  RUA JOSÉ OSÓRIO', ' SENTIDO AV RECIFE',\n",
       "       ' POR TRÁS DO POSTO BR',\n",
       "       ' SENTIDO CIDADE. ANTES DO VIADUTO TANCREDO NEVES.',\n",
       "       ' SENTIDO SUBURBIO/CENTRO', ' E/F A HABIB´S.',\n",
       "       ' RUA DO COLÉGIO BOA VIAGEM.', ' DINAMICA AUTO PEÇAS',\n",
       "       ' SENTIDO MADALENA', 'SENT/ OLINDA', ' E/F A PÇA. DA REPÚBLICA',\n",
       "       ' RUA DO SINAL', ' ANTES DO SHOPPING TACARUNA', ' APÓS O SPETTU´S',\n",
       "       ' NO CRUZAMENTO COM RUA SANTOS ARAÚJO', 'SENT/ BR', '200 metros',\n",
       "       ' SENTIDO AEROPORTO. ( SEMÁFORO 534)',\n",
       "       'ANTIGA ESTRADA DOS PINTOS.)',\n",
       "       ' ESTACIONAMENTO DO SHOPPING RIO MAR', ' SENTIDO MACAXEIRA',\n",
       "       ' PRIMEIRO CRUZAMENTO SENTIDO BOA VIAGEM  // PRÓXIMO A PRAÇA DO DERBY',\n",
       "       ' PROX. A ESCOLA JORNALISTA COSTA PORTO',\n",
       "       ' SUBIDA DA PONTE DO PINA AO LADO COMPESA.', 'S/LA ROQUE',\n",
       "       'S/ CAMARAGIBE', 'S/  POLICLINICA ARNALDO MARQUES',\n",
       "       ' SENTIDO SUBÚRBIO.', ' SENTIDO PALÁCIO', ' SENT. OLINDA',\n",
       "       'EM FRENTE A LOJA SUPER G', 'CRUZAMENTO COM A REAL DA TORRE',\n",
       "       ' SENTIDO ESTÇÃO METRÔ RECIFE',\n",
       "       ' EM FRENTE POSTO SHEEL // EM FRENTE A FIORI  // CRUZAMENTO DA AV DA CAXANGÁ COM A AV GENERAL POLIDORO',\n",
       "       'SENT/AGAMENON MAGALHÃES E EM FRENTE AO MERCADO DE VIRGINIA Nº52',\n",
       "       'EM FRENTE A PRAÇA EUCLIDES DA CUNHA',\n",
       "       'NO CRUZAMENTO COM A RUA PAES CABRAL',\n",
       "       'AO LADO DA LOJA ART MOVEIS', 'SEMAFORO 380',\n",
       "       'SENT/E/F  AO POSTO DE GASOLINA BR',\n",
       "       ' NORTE SENTIDO MACAXEIRA ANTES DA PRAÇA DA PICANHA',\n",
       "       ' SENTIDO AV RECIFE.', 'RUA DO POSTO DE GASOLINA DESATIVADO',\n",
       "       ' POR TRÁS DA CAS ADO ESTUDANTE', ' E/F EDF VITORIA COLONIAL',\n",
       "       'E/F EDF CONDE DE SERVILHA',\n",
       "       ' E/F AO CONSULTÓRIO MELHOR AMIGO PET SHOP', ' SEMAFORO 016',\n",
       "       'SEMAFORO 306', 'SENT CIDADE', ' PRÓXIMO AO SESC',\n",
       "       ' ESQUINA COM POSTO SHELL',\n",
       "       ' EF/ A CIDADE UNIVERSITÁRIA DELICATESSEN', ' E/F A SUBWAY',\n",
       "       ' PRÓXIMO AO COLEGIO EQUIPE', ' JUNTO AO RETORNO',\n",
       "       'CRUZAMENTO COM A RUA NICOLAU PEREIRA', 'NUCLEO POLICIAL',\n",
       "       'AO LADO DOS GALPÕES DE CEBOLA',\n",
       "       ' SENTIDO RECIFE (ANTES DO SEMÁFORO Nº 539)', 'SENT/PRAZERES',\n",
       "       ' SENTIDO BR (NO SEMÁFORO Nº 351)', ' UPA DA CAXANGÁ',\n",
       "       ' E/F A FERREIRA PINTO SENTIDO SHOPPING',\n",
       "       ' ANTIGA FÁBRICA SÃO MATEUS', ' SENTIDO BAIRRO DO RECIFE.',\n",
       "       ' APÓS HOSPITAL DO IPSEP',\n",
       "       ' HONDA DE AFOGADOS E PROXIMO AO HABIBS',\n",
       "       ' NO LADO DIREITO DA VIA.', 'SEMAFORO 481',\n",
       "       'E AO EDUCACIONAL BEIRA RIO',\n",
       "       'estão no estacionamentodo posto servi norte', 'SEMAFORO 096',\n",
       "       ' SENTIDO BOA VIAGEM. PROX. A BIFURCAÇÃO',\n",
       "       ' 200 PÓS MERCADO ESTRELLA', 'EM FRENTE AO PARQUE DONA LINDU',\n",
       "       'SEMAFORO 231', 'SEMAFORO105', ' NO LADO DIREITO DA VIA ',\n",
       "       ' SENTIDO APUPICOS', ' E/F AO GALETTUS',\n",
       "       ' APÓS AO BOMPREÇO MADALANA', ' SEMAFORO 193',\n",
       "       ' SENTIDO CLUB INTERNACIONAL', ' SENTIDO CIDADE SUBURBIO.',\n",
       "       'LADO CONTRÁRIO AO GARNDE RECIFE CONSORCIO',\n",
       "       ' SENTIDO AV DR. JOSÉ RUFINO',\n",
       "       ' APOS A GIGANTE DO SAMBA PRIMEIRA A DIREITA.',\n",
       "       ' AO LADO DA DUCATO', ' SORVETERIA FRI SABOR',\n",
       "       ' RUA DO CLÉGIO EMINENTE', ' SENTIDO ESTRADA DE BELÉM',\n",
       "       ' EM FRENTE AO CLUBE DA MOTO', 'E SUPERMERCADO ECONOMIA',\n",
       "       ' NO LADO ESQUERDO DA VIA.', ' LADO ESQUERDO DA VIA.',\n",
       "       ' NO LADO ESQUERDO DA VIA.( SEMÁFORO Nº 237)', 'FISCALIZAÇÃO',\n",
       "       ' E/F AO RESTAURANTE BARGAÇO', ' SAIDA DO CARREFOUR',\n",
       "       ' PROXÍMO A MCDONALD´S', 'SENT/AV NORTE', 'SEMAFORO 613',\n",
       "       ' NO SEMÁFORO 78', 'EMBAIXO DO PONTILHÃO',\n",
       "       'SEGUNDO ACESSO PORTÃO B', ' AO LADO PLACA BRILUX (RUA TORREÃO)',\n",
       "       ' EM FRENTE A DIVINAS BRASAS', ' SENTIDO CIDADE SUBURBIO',\n",
       "       'ESQUINA COM A SANTOS DUMONT',\n",
       "       ' NO LADO DIREITO DA VIA (SEMÁFORO Nº 261) SENTIDO CEASA',\n",
       "       ' SENTICO CIDADE.', ' POSTO 5', ' ANTIGO POSTO TOTAL',\n",
       "       'NA SUBIDA DO PANTANAL A CAMINHO DOS MILAGRES',\n",
       "       ' NO LADO DIREITO DA VIA. SENTIDO BR',\n",
       "       ' PROX. AO PALACIO DO GOVERNO E PROX. AO BANCO DO BRASIL',\n",
       "       ' POR TRAS DO HOTEL ATLANTICO PLAZA', ' SENTIDO JABOATÃO',\n",
       "       ' NO LADO DIREITO DA VIA. SENTIDO AFOGADOS.', ' SEMÁFORO 311',\n",
       "       ' EM BAIXO DO PONTILHÃO', ' sentido suburbio.', ' SENTIDO CDU',\n",
       "       ' RUA DA FEIRA LIVRE', ' NA SAIDA DO PORTÃO 6', ' SEMÁFORO 022',\n",
       "       ' AO LADO DO POSTO BR', 'PROXIMO AO BANCO DO BRASIL',\n",
       "       'SEMAFORO 312', ' SENT. CAMARAGIBE',\n",
       "       ' EM FRENTE A IGREJA PRESBITERIANA', ' SEMAFORO 416',\n",
       "       ' EM FRENTE AO EDF. ANA BELA', ' NO PORTÃO PRICIPAL E9',\n",
       "       ' APOS O COLEGIO SANTA CATARINA PRIMEIRA A DIREITA',\n",
       "       ' SENTIDO UR 5', ' NO LADO DIREITO DA VIA. SENTIDO SUBÚRBIO.',\n",
       "       ' EM FRENTE A CASA DO ESTUDANTE', ' EM FRENTE AO NÚMERO 534',\n",
       "       ' E/F AO CORPUS MOTEL', ' BATEDORES NO LOCAL: ISP ANDRADE',\n",
       "       ' E/F A IGREJA UNIVERSAL', ' EM FRENTE A UMA PRACA.',\n",
       "       ' LATERAL DO FORTE DAS CINCO PONTAS', ' NA SAÍDA DO IBURA.',\n",
       "       ' SENTIDO A PRAÇA DO IPSEP', 'SEMAFORO259',\n",
       "       ' POR TRÁS DA CHURRASCARIA BOI NA BRASA',\n",
       "       ' PRÓXIMO AO  ESPAÇO CIÊNCIA', '300 METROS',\n",
       "       ' EM FRENTE A FERRAGENS RECIFE LTDA', ' PRÓXIMO A WIZARD',\n",
       "       ' ENTRE A RIBEIRO DE BRITO E A BRUNO VELOSO',\n",
       "       ' PROXIMO A FERREIRA PINTO',\n",
       "       ' AO LADO DO BOI NA BRASA E O POSTO DISLUB',\n",
       "       ' EM BAIXO DA LOMBADA', 'PISTA LOCAL', 'SENT TORRE',\n",
       "       ' NA ENTRADA PARA JARDIM SÃO PAULO', ' PRÓX AO POSTO BR',\n",
       "       'SENT/ BOA VIAGEM', ' EM FRENTE AO RESIDENCIAL GRUPO DE AUTOMOVES',\n",
       "       ' ANTES DO VIA DUTO', 'PX DO MERCADINHO BURITI',\n",
       "       ' PRÓXIMO AO CENTRO DE TREINAMENTO DA HONDA', ' NA ENTRADA.',\n",
       "       ' ESQUINA DO SHOPPING ESPINHEIRO',\n",
       "       ' PISTA LOCAL DA AGAMENON MAGALHÃES EM FRENTE AO HOSITAL PORTUGUÊS',\n",
       "       ' SENTIDO SHOPPING.', 'PROXIMO AO SEMAFORO DA MEIRALINS',\n",
       "       ' SEMAFORO 032', ' URGENCIA PEDIATRICA',\n",
       "       ' APOS A O MAR HOTEL TERCEIRA RUA',\n",
       "       ' ENTRE O NÚMERO 4031 E 4069. DEPOIS DO ESTÁDIO DO ARRUDA',\n",
       "       ' SEMAFORO 329', ' PROX. A CAIXA ECONIMICA',\n",
       "       ' PROX. A FACULDADE NOVA ROMA E O CANAL ',\n",
       "       '  PROX. AO 11° BATALHÃO', ' SENTIDO BARÃO DE SOUZA LEÃO',\n",
       "       ' SENTIDO CAMARAGIBE', 'sent/camaragibe',\n",
       "       ' POSTO BR DA ENTRADA DA VILA TAMANDARÉ', ' SENTIDO BR 232',\n",
       "       'ANTIGO CANELA', ' CRUZAMENTO DE ACESSO A JARDIM SÃO PAULO',\n",
       "       ' AO LADO DO HR.( SEMÁFORO Nº 650) SENTIDO BOA VIAGEM',\n",
       "       ' SENTIDO ARRUDA. ANTES DO SEMÁFORO Nº 062',\n",
       "       ' SENTIDO CIDADE UNIVERSITÁRIA(SEMÁFORO Nº 336)',\n",
       "       ' PROX. AO POSTO DISLUB', ' AO LADO DO POSTO BR. SENTIDO BR 232',\n",
       "       ' CRUZ. COM  A ENTRADA DE JD SÃO PAUO E SAN MARTIN.',\n",
       "       ' E/F A CENTRAL MÓVEIS.', ' APÓS O LABORATÓRIO PAULO MIRANDA.',\n",
       "       ' E/F POSTO BR .', 'S/SUBURBIO', 'DEPOIS DO CANAL DO CABOCO',\n",
       "       ' POR TRÁS DO HOSP. BARÃO DE LUCENA', ' SENTIDO JARDIM SÃO PAULO',\n",
       "       ' APÓS O BRADESCO', 'VAREJÃO KENEDI', 'SENT CENTRO',\n",
       "       ' PRÓXIMO AO SHOPPING RIO MAR.', ' E/F MOTEL SENZALA',\n",
       "       ' ESTACIONADOS NA LATERAL DA LOJA DE MOTOS SHINERAY.',\n",
       "       ' E/F O EDF BEIRA RIO', ' AO LADO HR ( AGENTE NATALICIO',\n",
       "       'AO LADO DA FACULDADE UNIVERSO', ' PRÓXIMO AO DETRAN.',\n",
       "       ' PROXIMO AO CAC', ' POR TRÁS DA SUDENE',\n",
       "       ' SENTIDO SUBÚRBIO(SEMÁFORO Nº 096)', 'SENT/AFOGADOS',\n",
       "       'SENT/CENTRO DO RECIFE',\n",
       "       'EM FRENTE AO PORTÃO DO EXERCITO SETIMO DEPÓSITO DE SUPRIMENTOS',\n",
       "       'SEMAFORO 007', ' SENTIDO AV CAXANGÁ( SEMÁFORO Nº 231)',\n",
       "       ' SAÍDA DO IBURA COM AVENIDA RECIFE', ' APÓS A BASE AÉREA.',\n",
       "       ' STILLUS SUPERMERCADOS', 'SENT/ AV RECIFE IBURA',\n",
       "       ' SENTIDO APIPUCOS.', ' NO NUMERO 756',\n",
       "       ' SENTIDO AGAMENON(SEMÁFORO Nº 102)', 'SEMNT CAIS JOSE MARIANO',\n",
       "       'NO SEMAFORO Nº534', ' SENTIDO CAMARAGIBE(SEMÁFORO Nº 262)',\n",
       "       ' APÓS A PADRE CARAPUCEIRO.', ' APÓS O MERCADO DA MADALENA',\n",
       "       ' POR TRAS DO COLEGIO BOA VIAGEM', 'SEMAFORO 608', 'SEMAFORO 548',\n",
       "       'GM CHAVES VT 14 JA NO LOCAL', 'PRIMEIRA RUA A ESQUERDA',\n",
       "       ' AO LADO DA ACADEMIA BOA FORMA. SENTIDO CIDADE',\n",
       "       ' EM FRENTE O EDF', 'CRUZAMENTO COM RUA 48',\n",
       "       ' SENTIDO CEASA. NO LADO DIREITO DA VIA.',\n",
       "       ' SENTIDO BOA VIAGEM (SEMÁFORO Nº 417)',\n",
       "       ' E/F AO AMERICANO BATISTA (PISTA LOCAL)',\n",
       "       ' CRUZ COM A SOUZA BANDEIRA', ' E/F COMERCIO BEL',\n",
       "       ' PROXIMO A FACULDADE BOA VIAGEM',\n",
       "       ' SENTIDO CAXANGÁ INDO PELA JOSÉ DE OSÓRIO.',\n",
       "       ' APÓS A INTEGRAÇÃO DA CAXANGÁ', ' PRÓXIMO A BARRACA DA OSANA',\n",
       "       'SENT/AEROPORTO', ' CRUZAMENTO DA BARÃO DE SOUZA LEÃO',\n",
       "       ' E/F AO SINDICATO SIMPRO-PE', ' SEMAFORO 546',\n",
       "       ' AO LADO DA FARMÁCIA PAGUE MENOS.',\n",
       "       ' SENTIDO CIDADE. (SEMÁFORO Nº 270)', ' S',\n",
       "       ' E/F AO POSTO IPIRANGA', ' SEMAFORO 064',\n",
       "       ' EDF PARQUE JANQUEIRA.', ' E/F AO EDF PRAÇA DO MAR', ' CIDADE',\n",
       "       ' SENTIDO PRAIA', ' ESQUINA COM A RUA DA AMIZADE', ' SEMÁFORO 066',\n",
       "       ' POR TRÁS DO SHOPPING RECIFE', 'COM A AV DOMINGOS FEERREIRA',\n",
       "       ' SENTIDO SUBÚRBIO LADO DIREITO DA VIA.', ' ANTES DO HABIB´S',\n",
       "       ' E/F RESTAURANTE SKILLOS', ' E/F AO INSTITUTO CERVANTES',\n",
       "       ' E/F ADVOCACIA CORPORATIVA', ' PROXIMO AO SUPERMERCADO SOUZALEÃO',\n",
       "       ' EM FRENTE A ESTAÇÃO DA CELPE',\n",
       "       ' LADO OPOSTO A FABRICA. RUA AO LADO DA SOND CAR', 'SENT JORDÃO',\n",
       "       'SENTIDO ROSA E SILVA', ' PRÓXIMO AO ATACADO DOS PRESENTES',\n",
       "       ' PROX. A IGREJA CATÓLICA DO BARRO', ' PARADA DE ONIBUS 21',\n",
       "       ' AO LADO DO LABORATÓRIO CERPE', ' PROXIMO AO SEMAFORO 633',\n",
       "       ' PROXIMO AO RESTAURANTE SPETTUS', ' SENTIDO CENTRO.',\n",
       "       ' SENTIDO\\xa0CENTRO E EM FRENTE AO POSTO BR',\n",
       "       ' SENTIDO DOIS IRMÃOS', ' EM FRENTE AO POSTO BR',\n",
       "       ' E CEMITERIO PARQUE DAS FLORES', ' SEMAFORO 455',\n",
       "       ' SENTIDO IMBIRIBEIRA', ' SEGUNDA RUA A DIREITA',\n",
       "       ' NA RUA DO POSTO TOTAL E PROX. A MEGA EVENTOS', ' SENTIDO DERBY.',\n",
       "       ' PROX. A CAVALARIA', ' PROXIMO AO SEMAFORO 248',\n",
       "       ' SENTIDO\\xa0CONDE DA\\xa0BOA VISTA',\n",
       "       'POR BAIXO DO VIADUTO SENTIDO AFOGADOS',\n",
       "       ' PROXIMO AO SEMAFORO 451', ' APÓS POSTO DE GASOLINA A ESQUERDA.',\n",
       "       ' SUBIDA DO VIADUTO DO CARREFOUR', ' AV. CONDE DA BOA VISTA',\n",
       "       ' ESQUINA COM A RUA MONTE CARMELO.', ' EM FRENTE A CASA DE ITALIA',\n",
       "       ' PISTA LOCAL SENTIDO BOA VIAGEM', ' E/F A CHESF',\n",
       "       ' HOTEL COSTA AZUL E POSTO PETROBRÁS.',\n",
       "       ' EM FRENTE AO LAVA JATO DALLAS',\n",
       "       ' AO LADO DO CANAL (RUA SIMÕES BARBOSA).', ' SENTIDO VÁRZEA',\n",
       "       ' EM FRENTE A GARAGEM DA EMLURB E POSTO SHELL',\n",
       "       ' NA PRAÇA DOS CAMINHONEIROS', ' E O COLEGIO MONTE LIBANO',\n",
       "       ' PROXIMO A POSTO DE POLICIAMENTO DO ALTO JOSÉ BONIFÁCIO',\n",
       "       ' PROXIMO AO GERALDÃO', ' PROX MAC DONALD', ' SEMAFORO 559',\n",
       "       ' PROXIMO AO ATACADÃO', ' CRUZAMENTO COM  AV RECIFE',\n",
       "       ' E AO LADO DA SUBWAY', ' APÓS A PONTE MOTOCOLOMBÓ',\n",
       "       ' E A SECRETARIA DE ADMINISTRAÇÃO', ' PROX. A PRAÇA DO TRABALHO',\n",
       "       ' NA RUA DA PRAÇA DO TRABALHO', 'AO LADO DO EDF/EUDORADO',\n",
       "       ' PROX. A PRIMEIRA PARADA DA CAXANGA', ' SENTIDO GRAÇAS',\n",
       "       ' AO LADO DA IGREJA CATOLICA', ' PROX. A FEIRA DA RODINHA',\n",
       "       ' E DA CHESF SENTIDO BR232', 'SENT PRAZERES',\n",
       "       ' PROX. AO GRANDE ECIFE', ' ANEXO 2 DA ALEPE', ' NA LOCAL',\n",
       "       ' E/F A MEIRA LINS', ' APOIS O SEMÁFORO 007 AO LADO DA DUCATI',\n",
       "       ' AO LADO DA CIA DA LIMPEZA.',\n",
       "       ' DESCIDA PARA O CAIS JOSÉ ESTELITA.', ' E/F AO ANTIGO OTO GEL',\n",
       "       'VEICULO EM FRENTE DA CAIXA ECONNOMICA ', 'SENT/SAN MARTIN',\n",
       "       ' 100 METROS DA SAÍDA DO JORDÃO.',\n",
       "       'S/V EM FRENTE AO CLUBE DO SPORT', ' SENTIDO BEBERIBE',\n",
       "       ' PROX AO SEMAFORO 40', ' EM PRENTE AO PREDIO TRIUNFO COLONIAL',\n",
       "       ' SENTIDO CIDADE.(SEMÁFORO Nº 507)', ' PRÓXIMO AO COLÉGIO APA',\n",
       "       ' RUA RESTAURANTE ESTRELA DO MAR', ' EM FRENTE AO SEMAFORO 031',\n",
       "       ' AO LADO DA MICROLINS. SENTIDO CIDADE.( SEMÁFORO Nº 027)',\n",
       "       'EMBAIXO DA LOMBADA ELETRONICA SENT/RECIFE', ' SEMÁFORO 441',\n",
       "       ' ANTES DA PONTE', ' SEMAFORO 065', ' SEMAFORO154',\n",
       "       ' PROX.  A PRAÇA HEROIS DA RESTAURAÇÃO',\n",
       "       'EM FRENTE A PRAÇA DE CASA FORTE', ' NO SEMÁFORO 324',\n",
       "       ' ANTIGA ESTRADA VELHA.', ' POR TRAS DA ASSEMBLEIA LEGISLATIVA',\n",
       "       'E EM FRENTE A CIROL ROYAL SENTIDO BR', ' ANTIGO EXTRA BOM',\n",
       "       'CRUZAMENTO COM A AV NORTE',\n",
       "       ' NO CRUZAMENTO COM A PROF. JOSÉ DOS ANJOS',\n",
       "       ' APOS UM POUCO DO CRUZAMENTO DA BARÃO DE SOUZA LEÃO',\n",
       "       ' FAIXA DA ESQUERDA', ' E/F A PARADA DE ÔNIBUS.',\n",
       "       'EM FRENTE AO POSTO IPIRANGA', ' EM FRENTE A LASER', 'SENT/ PINA',\n",
       "       ' NO LADO DIREITO DA VIA. SENTIDO CENTRO.',\n",
       "       ' NO SEMAFORO 342/ SENTIDO ESTRADA DO ARRAIAL', ' NA BEIRA CANAL',\n",
       "       ' UNS 500 M SENTIDO BOA VIAGEM',\n",
       "       ' LADO DIREITO DA VIA.( SEMÁFORO Nº 003)', ' SENTIDO ENCRUZILHADA',\n",
       "       'SEMAFORO', 'SEMAFORO NUMERO 104', 'APÓS O CLUBE MILITAR',\n",
       "       ' EM FRENTE A PADARIA N.S DE FATIMA', ' NO LADO DIREITO',\n",
       "       'SINAL DA PONTE DA CAPUNGA', ' NO LADO ESQUERDO DA VIA',\n",
       "       ' PEGANDO O RETORNO A PRIMEIRA A DIREITA',\n",
       "       ' EM FRENTE AO POSTO DE GASOLINA IVINI',\n",
       "       'em frente a caixa economica', ' SENTIDO CIDADE. LADO ESQUERDO.',\n",
       "       ' LAOD ESQUERDO DA VIA.', ' E AO LADO DA AMERICA FORD',\n",
       "       ' PROX A ESQUINA DA PICANHA', 'EM FRENTE AO SUPERMERCADO EXTRABOM',\n",
       "       'POR TRÁS DO DONA LINDU', ' VT 07 JA ESTAR NO LOCAL.',\n",
       "       ' VINDO PELO VD DA TANCREDO NEVES.',\n",
       "       ' PROX. A IGREJA DO BOM PARTO', ' NA ENTRADA DA UPA DA CAXANGÁ',\n",
       "       ' NO SEMAFORO 396', ' PROX. AO SEMAFORO 241', 'GALPÃO 44',\n",
       "       'RUA A ESQUERDA', ' SENTIDO MARCO 0.', ' SENTIDO CASA AMARELA',\n",
       "       ' EM FRENTE O IMPERIAL EQUIPAMENTOS Nº 5516',\n",
       "       ' RUA DO COLÉGIO GGE', ' APÓS A ALÇA DO VD CAPITÃO TEMUDO.',\n",
       "       'rua corta a av dois rios', 'sent/ afogados',\n",
       "       ' SENTIDO SENTIDO BOA VIAGEM', ' EM FRENTE A EMPRESA LACOMEX',\n",
       "       'EM FRENTE AO QUARTEL BATALHÃO DIOGO CAMARÃO',\n",
       "       ' EM FRENTE AO SEMAFORO 082', ' LOGO APÓS ESTÁDIO DO SANTA CRUZ',\n",
       "       ' NO LADO DIREITO DA VIA. SENTIDO CIDADE UNIVERSITÁRIA',\n",
       "       ' AO LADO DO EXTRA', ' NA SAIDA DO SHOPPING RECIFE',\n",
       "       ' CRUZ . COM A RUA ERNESTO DE PAULA SANTOS.', ' E/F A PROAB',\n",
       "       ' DEPOIS PRIMEIRA ESQUERDA', ' SENTIDO CAXANGÁ',\n",
       "       ' NO INICIO DA AV. RECIFE', 'AX',\n",
       "       ' E NA ESQUINA DO RESTAURANTE CALDICIMO', ' SENTIDO TORRE',\n",
       "       ' NA RUA DA ESCOLA MARIO MELO', ' E/F TE TRANSPORTE EXPRESSO',\n",
       "       ' EM FRENTE A CHESF / CRUZAMENTO COM ABIDIAS DE CARVALHO',\n",
       "       'SENT/SUBURBIO CIDADE', ' APÓS A DESCIDA DA PONTE.',\n",
       "       ' EM FRENTE A HABIBS/ ENGEFRIO',\n",
       "       'CRUZAMENTO COM A ESTRADA DOS REMEDIOS'], dtype=object)"
      ]
     },
     "execution_count": 53,
     "metadata": {},
     "output_type": "execute_result"
    }
   ],
   "source": [
    "data_2015.natureza.unique()"
   ]
  },
  {
   "cell_type": "code",
   "execution_count": null,
   "id": "30f251dd",
   "metadata": {},
   "outputs": [],
   "source": []
  }
 ],
 "metadata": {
  "kernelspec": {
   "display_name": "Python 3 (ipykernel)",
   "language": "python",
   "name": "python3"
  },
  "language_info": {
   "codemirror_mode": {
    "name": "ipython",
    "version": 3
   },
   "file_extension": ".py",
   "mimetype": "text/x-python",
   "name": "python",
   "nbconvert_exporter": "python",
   "pygments_lexer": "ipython3",
   "version": "3.8.9"
  }
 },
 "nbformat": 4,
 "nbformat_minor": 5
}
